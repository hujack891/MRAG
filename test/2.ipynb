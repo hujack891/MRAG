{
 "cells": [
  {
   "cell_type": "code",
   "execution_count": 3,
   "id": "ce1f0e14",
   "metadata": {},
   "outputs": [],
   "source": [
    "import re\n",
    "import requests\n",
    "from bs4 import BeautifulSoup\n",
    "import html2text\n",
    "import os\n",
    "import shutil\n",
    "import time\n",
    "import random"
   ]
  },
  {
   "cell_type": "code",
   "execution_count": 4,
   "id": "23ca5d76",
   "metadata": {},
   "outputs": [
    {
     "name": "stdout",
     "output_type": "stream",
     "text": [
      "<div class=\"jsx-398967926 content\"><section class=\"jsx-3850324473 jsx-3179845851 jsx-28683165 wiki-section wiki-html\"><p>Laurel Buds are one of the <a class=\"link jsx-1337145738 jsx-3925284146 underlined\" data-cy=\"styled-link\" href=\"/wikis/black-myth-wukong/Soaks\" title=\"Soaks\">Soaks</a> you can get for your <a class=\"link jsx-1337145738 jsx-3925284146 underlined\" data-cy=\"styled-link\" href=\"/wikis/black-myth-wukong/Gourds\" title=\"Gourds\">Gourds</a> in Black Myth: Wukong. Found a little deeper into the game, it has a rather powerful buff, which can save your life in a fight or against a tough enemy. \n",
      "</p></section><section class=\"jsx-3850324473 jsx-3179845851 jsx-28683165 wiki-section wiki-html\"><p>With the Laurel Buds equipped, using the Gourd will moderately increase the damage reduction for a short duration of time. This duration is rather short, but it can be the difference between life and death in a pinch or one of the tougher boss fights in the game.\n",
      "</p></section><section class=\"jsx-1498423758 wiki-video\" data-cy=\"wiki-auto-embed\"><div class=\"jsx-2021719738 video jsx-2008855984 aspect-ratio aspect-ratio-16-9\"><div class=\"badge jsx-1349606671 jsx-3647116352\"><span aria-hidden=\"false\" aria-label=\"Play\" class=\"ign-icon icon-play jsx-2750866048 jsx-1044454891\" data-cy=\"icon-play\" role=\"img\" style=\"mask:url(https://kraken.ignimgs.com/_next/static/media/Play.59e5540b.svg) no-repeat center center / contain;background:currentColor\"></span></div></div></section><section class=\"jsx-3850324473 jsx-3179845851 jsx-28683165 wiki-section wiki-html\"><p><output class=\"jsx-1311301133 wiki-image images-1\"><button class=\"jsx-1311301133\" title=\"Click to Show\"><img alt=\"Laurel Buds 2.jpg\" class=\"image large jsx-3274335212\" decoding=\"async\" loading=\"lazy\" src=\"data:image/gif;base64,R0lGODlhAQABAIAAAAAAAP///yH5BAEAAAAALAAAAAABAAEAAAIBRAA7\"/></button></output></p></section><section class=\"jsx-3850324473 jsx-3179845851 jsx-28683165 wiki-section wiki-html\"><p>Soaks can't be upgraded in the game, unlike the Drinks and the Gourd itself, so you are stuck with the length of this damage reduction. It can't be increased, so, if you want to switch to a different Soak, be sure to head back to the Shen Monkey Vendor.\n",
      "</p></section><section class=\"jsx-3850324473 jsx-3179845851 jsx-28683165 wiki-section wiki-html\"><h2><span class=\"mw-headline\" data-transform=\"header\" id=\"Black_Myth:_Wukong_Laurel_Buds_Location\">Black Myth: Wukong Laurel Buds Location</span></h2></section><section class=\"jsx-3850324473 jsx-3179845851 jsx-28683165 wiki-section wiki-html\"><p>The Laurel Buds can be found past the Lang-Li-Guhh-Baw boss to the left of the Sandgate Village - Village Entrance Shrine in Yellow Wind Ridge. Head towards where you will fight the King of Flowing Sand and Second Rat Prince. Just before that boss arena, you will see a statue.\n",
      "</p></section><section class=\"jsx-3850324473 jsx-3179845851 jsx-28683165 wiki-section wiki-html\"><p>By this statue, you can pick up the Laurel Buds.\n",
      "</p></section><section class=\"jsx-3850324473 jsx-3179845851 jsx-28683165 wiki-section wiki-html\"><p><output class=\"jsx-1311301133 wiki-image images-1\"><button class=\"jsx-1311301133\" title=\"Click to Show\"><img alt=\"Laurel Buds.jpg\" class=\"image large jsx-3274335212\" decoding=\"async\" loading=\"lazy\" src=\"data:image/gif;base64,R0lGODlhAQABAIAAAAAAAP///yH5BAEAAAAALAAAAAABAAEAAAIBRAA7\"/></button></output></p></section><section class=\"jsx-3850324473 jsx-3179845851 jsx-28683165 wiki-section wiki-html\"><p>Soaks are far more plentiful than the Drinks for your Gourds. They are scattered throughout the game, across each chapter. For even more guides on these areas, check out our full <a class=\"link jsx-1337145738 jsx-3925284146 external text underlined\" data-cy=\"styled-link\" href=\"/wikis/black-myth-wukong/Walkthrough\">Black Myth: Wukong walkthrough</a>. You can also keep track of the <a class=\"link jsx-1337145738 jsx-3925284146 external text underlined\" data-cy=\"styled-link\" href=\"/wikis/black-myth-wukong/Awaken_Wine_Worm_Locations\">Awaken Wine Worm locations</a> and <a class=\"link jsx-1337145738 jsx-3925284146 external text underlined\" data-cy=\"styled-link\" href=\"/wikis/black-myth-wukong/Luojia_Fragrant_Vine_Locations\">Luoija Fragrant Vine locations</a>, which are key to upgrading your healing potential and Gourd.\n",
      "</p></section></div>\n"
     ]
    }
   ],
   "source": [
    "headers = {\n",
    "    \"User-Agent\": (\n",
    "        \"Mozilla/5.0 (Windows NT 10.0; Win64; x64) \"\n",
    "        \"AppleWebKit/537.36 (KHTML, like Gecko) \"\n",
    "        \"Chrome/114.0.0.0 Safari/537.36\"\n",
    "    )\n",
    "}\n",
    "url='https://www.ign.com/wikis/black-myth-wukong/Laurel_Buds'\n",
    "response = requests.get(url, headers=headers, timeout=30)\n",
    "soup = BeautifulSoup(response.text, 'html.parser')\n",
    "main_content = soup.find(\"div\", class_=\"content\") or soup.body\n",
    "print(main_content)"
   ]
  }
 ],
 "metadata": {
  "kernelspec": {
   "display_name": "mmxrag-env",
   "language": "python",
   "name": "python3"
  },
  "language_info": {
   "codemirror_mode": {
    "name": "ipython",
    "version": 3
   },
   "file_extension": ".py",
   "mimetype": "text/x-python",
   "name": "python",
   "nbconvert_exporter": "python",
   "pygments_lexer": "ipython3",
   "version": "3.10.18"
  }
 },
 "nbformat": 4,
 "nbformat_minor": 5
}
